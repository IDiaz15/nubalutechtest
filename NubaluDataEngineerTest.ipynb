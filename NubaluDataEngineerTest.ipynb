{
 "cells": [
  {
   "cell_type": "code",
   "execution_count": null,
   "metadata": {},
   "outputs": [],
   "source": [
    "%config IPCompleter.greedy=True"
   ]
  },
  {
   "cell_type": "code",
   "execution_count": null,
   "metadata": {},
   "outputs": [],
   "source": [
    "import csv, requests, json\n",
    "\n",
    "CSV_URL = 'https://www.ine.es/jaxiT3/files/t/es/csv_sc/22356.csv?nocab=1'\n",
    "\n",
    "#Getting CSV file\n",
    "with requests.Session() as s:\n",
    "    download = s.get(CSV_URL)\n",
    "\n",
    "    decoded_content = download.content.decode('utf-8')\n",
    "\n",
    "    csvObject = csv.reader(decoded_content.splitlines(), delimiter=';')\n"
   ]
  },
  {
   "cell_type": "code",
   "execution_count": null,
   "metadata": {},
   "outputs": [],
   "source": [
    "#Getting Data types\n",
    "[next(csvObject) for _ in range(5)]\n",
    "dataTypes = next(csvObject)\n",
    "dataTypes = list(filter(None, dataTypes))"
   ]
  },
  {
   "cell_type": "code",
   "execution_count": null,
   "metadata": {},
   "outputs": [],
   "source": [
    "#Getting Periods\n",
    "periods = next(csvObject)\n",
    "periods = periods[1:-1]"
   ]
  },
  {
   "cell_type": "code",
   "execution_count": null,
   "metadata": {},
   "outputs": [],
   "source": [
    "#Getting Provinces, Subgroups and Values\n",
    "count = 0\n",
    "provinces = []\n",
    "subgroups = []\n",
    "allSubGroups = []\n",
    "values = []\n",
    "\n",
    "for line in csvObject:\n",
    "    if count == 0:\n",
    "        provinces.append(line[0])\n",
    "    else:\n",
    "        subgroups.append(line[0].replace(\"    \",\"\"))\n",
    "        values.append(line[1:-1])\n",
    "        \n",
    "    count = count + 1\n",
    "    if count == 44:\n",
    "        count = 0\n",
    "        allSubGroups.append(subgroups)\n",
    "        subgroups = []\n",
    "    \n",
    "       \n",
    "provinces = provinces[:-1]\n",
    "#allSubGroups = allSubGroups[:-2]\n",
    "values = values[:-2]\n"
   ]
  },
  {
   "cell_type": "code",
   "execution_count": null,
   "metadata": {},
   "outputs": [],
   "source": [
    "#Filling periods with values\n",
    "numPeriods = len(periods)\n",
    "numDataTypes = len(dataTypes)\n",
    "numValues = len(values)\n",
    "\n",
    "allPeriods = []\n",
    "periodsList = {}\n",
    "for x in range(numValues):\n",
    "    for y in range(numPeriods):\n",
    "        periodsList[periods[y]] = values[x][y]\n",
    "        \n",
    "        if y%(numPeriods/numDataTypes) == 0 and y != 0:\n",
    "            allPeriods.append(periodsList)\n",
    "            periodsList = {}\n",
    "\n",
    "    allPeriods.append(periodsList)\n",
    "    periodsList = {}\n",
    "            "
   ]
  },
  {
   "cell_type": "code",
   "execution_count": null,
   "metadata": {},
   "outputs": [],
   "source": [
    "#Filling data types with periods\n",
    "differentPeriods = round(numPeriods/numDataTypes)\n",
    "allDataTypes = []\n",
    "dataTypesList = {}\n",
    "iterator = 0\n",
    "\n",
    "for x in range(len(allPeriods)):\n",
    "    dataTypesList[dataTypes[iterator]] = allPeriods[x]\n",
    "    \n",
    "    iterator = iterator + 1\n",
    "    if iterator == numDataTypes:\n",
    "        iterator = 0\n",
    "        allDataTypes.append(dataTypesList)\n",
    "        dataTypesList = {}\n"
   ]
  },
  {
   "cell_type": "code",
   "execution_count": null,
   "metadata": {},
   "outputs": [],
   "source": [
    "#Filling subgroups with data types\n",
    "numSubGroups = len(allSubGroups[0])\n",
    "numProvinces = len(allSubGroups)\n",
    "allSubGroupsList = {}\n",
    "allSubGroupsFilled = []\n",
    "iterator = 0\n",
    "\n",
    "for x in range(len(allDataTypes)):\n",
    "    allSubGroupsList[allSubGroups[0][iterator]] = allDataTypes[x]\n",
    "    \n",
    "    iterator = iterator + 1\n",
    "    if iterator == numSubGroups:\n",
    "        iterator = 0\n",
    "        allSubGroupsFilled.append(allSubGroupsList)\n",
    "        allSubGroupsList = {}\n"
   ]
  },
  {
   "cell_type": "code",
   "execution_count": null,
   "metadata": {},
   "outputs": [],
   "source": [
    "#Filling provinces with subgroups\n",
    "finalData = {}\n",
    "for x in range(numProvinces):\n",
    "    finalData[provinces[x]] = allSubGroupsFilled[x]"
   ]
  },
  {
   "cell_type": "code",
   "execution_count": null,
   "metadata": {},
   "outputs": [],
   "source": [
    "#Exporting JSON object to JSON file\n",
    "jsonFilePath = 'exportedJson.json'\n",
    "\n",
    "with open(jsonFilePath,'w') as jsonFile:\n",
    "    jsonFile.write(json.dumps(finalData))"
   ]
  },
  {
   "cell_type": "code",
   "execution_count": null,
   "metadata": {},
   "outputs": [],
   "source": [
    "finalData[\"02 Albacete\"][\"011 Alimentos\"][\"Índice\"][\"2019M01\"]"
   ]
  },
  {
   "cell_type": "code",
   "execution_count": null,
   "metadata": {},
   "outputs": [],
   "source": []
  }
 ],
 "metadata": {
  "kernelspec": {
   "display_name": "Python 3",
   "language": "python",
   "name": "python3"
  },
  "language_info": {
   "codemirror_mode": {
    "name": "ipython",
    "version": 3
   },
   "file_extension": ".py",
   "mimetype": "text/x-python",
   "name": "python",
   "nbconvert_exporter": "python",
   "pygments_lexer": "ipython3",
   "version": "3.8.0"
  }
 },
 "nbformat": 4,
 "nbformat_minor": 2
}
