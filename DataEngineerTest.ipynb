{
 "cells": [
  {
   "cell_type": "code",
   "execution_count": null,
   "metadata": {},
   "outputs": [],
   "source": [
    "#Installing pandas module\n",
    "!pip install pandas"
   ]
  },
  {
   "cell_type": "code",
   "execution_count": null,
   "metadata": {},
   "outputs": [],
   "source": [
    "import pandas as pd\n",
    "import json\n",
    "\n",
    "#Reading CSV file from INE web    \n",
    "df = pd.read_csv(\"https://www.ine.es/jaxiT3/files/t/es/csv/22356.csv?nocab=1\", delimiter='\\t', header=5, skipfooter=3)"
   ]
  },
  {
   "cell_type": "code",
   "execution_count": null,
   "metadata": {},
   "outputs": [],
   "source": [
    "#Parsing CSV file to create a list of provinces and values\n",
    "numPeriods = round(df.shape[0]/44)\n",
    "provinces = []\n",
    "values = []\n",
    "\n",
    "for x in range(numPeriods):\n",
    "    row = x*44\n",
    "    provinces.append(df.loc[row][0])\n",
    "    values.append(df[row+1:row+44])\n",
    "    \n"
   ]
  },
  {
   "cell_type": "code",
   "execution_count": null,
   "metadata": {},
   "outputs": [],
   "source": [
    "#Creating a JSON object with values per province\n",
    "jsonData = {}\n",
    "count = 0\n",
    "\n",
    "for j in provinces:\n",
    "    jsonData[j] = values[count].to_json()\n",
    "    count = count + 1\n",
    "    "
   ]
  },
  {
   "cell_type": "code",
   "execution_count": null,
   "metadata": {},
   "outputs": [],
   "source": [
    "#Exporting JSON object to JSON file\n",
    "jsonFilePath = 'exportedJson.json'\n",
    "\n",
    "with open(jsonFilePath,'w') as jsonFile:\n",
    "    jsonFile.write(json.dumps(jsonData))"
   ]
  },
  {
   "cell_type": "code",
   "execution_count": null,
   "metadata": {},
   "outputs": [],
   "source": []
  }
 ],
 "metadata": {
  "kernelspec": {
   "display_name": "Python 3",
   "language": "python",
   "name": "python3"
  },
  "language_info": {
   "codemirror_mode": {
    "name": "ipython",
    "version": 3
   },
   "file_extension": ".py",
   "mimetype": "text/x-python",
   "name": "python",
   "nbconvert_exporter": "python",
   "pygments_lexer": "ipython3",
   "version": "3.8.0"
  }
 },
 "nbformat": 4,
 "nbformat_minor": 2
}
